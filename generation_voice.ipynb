{
 "cells": [
  {
   "cell_type": "markdown",
   "id": "7e69854d",
   "metadata": {},
   "source": [
    "# Voice"
   ]
  },
  {
   "cell_type": "code",
   "execution_count": null,
   "id": "f493954b",
   "metadata": {},
   "outputs": [],
   "source": [
    "#from allennlp_models.pretrained import load_predictor\n",
    "#srl_predictor = load_predictor('structured-prediction-srl')"
   ]
  },
  {
   "cell_type": "code",
   "execution_count": null,
   "id": "43cb4ed5",
   "metadata": {},
   "outputs": [],
   "source": [
    "import json\n",
    "import re\n",
    "\n",
    "\n",
    "import checklist\n",
    "from checklist.editor import Editor\n",
    "from checklist.perturb import Perturb\n",
    "from checklist.test_types import MFT, INV, DIR\n",
    "from checklist.expect import Expect\n",
    "\n",
    "\n",
    "from checklist.pred_wrapper import PredictorWrapper"
   ]
  },
  {
   "cell_type": "code",
   "execution_count": null,
   "id": "cc33520c",
   "metadata": {},
   "outputs": [],
   "source": [
    "#import pprint\n",
    "#pp = pprint.PrettyPrinter(indent=2, width=10, compact=False)\n",
    "\n",
    "#import spacy\n",
    "#nlp = spacy.load(\"en_core_web_sm\")\n",
    "\n",
    "\n",
    "%run utils.ipynb\n",
    "\n",
    "# Initialize random seed\n",
    "import random\n",
    "#import torch\n",
    "seed = 423\n",
    "random.seed(seed)\n",
    "#torch.manual_seed(seed)"
   ]
  },
  {
   "cell_type": "markdown",
   "id": "d634ed89",
   "metadata": {},
   "source": [
    "## Creating lexicons for tests"
   ]
  },
  {
   "cell_type": "code",
   "execution_count": null,
   "id": "276e2776",
   "metadata": {},
   "outputs": [],
   "source": [
    "def generate_voice(editor, nr_of_samples):\n",
    "    \n",
    "    capability = 'capability1_capability1_voice'\n",
    "    test_type  = 'MFT'\n",
    "    function_expected = one_arg_expected\n",
    "    nr_of_samples = nr_of_samples\n",
    "    tests = []\n",
    "\n",
    "\n",
    "    # create test material dictionary\n",
    "    test_material = {}\n",
    "\n",
    "    test_material['capability']  = capability\n",
    "    test_material['test_type']   = test_type\n",
    "    test_material['expected_fn'] = function_expected\n",
    "\n",
    "    test_material['tests'] = {}\n",
    "\n",
    "    tm = test_material['tests']\n",
    "\n",
    "\n",
    "    \n",
    "    ## test templates\n",
    "\n",
    "\n",
    "    editor.add_lexicon(name='thing_to_spill', \n",
    "                       values=['water', 'drink', 'soda', 'coke', 'pepsi', 'tea', 'coffee', 'liquid', 'paint'], \n",
    "                       overwrite=True)\n",
    "\n",
    "    editor.add_lexicon(name='aux_tenses', \n",
    "                       values=['is', 'was', 'had been', 'will be', 'will have been'], \n",
    "                       overwrite=True )\n",
    "\n",
    "    '''\n",
    "    # taken from http://www-personal.umich.edu/~jlawler/levin.verbs\n",
    "    09.5     \"pour\" verbs\n",
    "             dribble drip pour slop slosh spew spill spurt\n",
    "    '''    \n",
    "    editor.add_lexicon(name='predicate_pour', # taken from levin clss 'pour verbs'  \n",
    "                       values=['poured', 'spilled', 'sloshed'], \n",
    "                       overwrite=True )\n",
    "\n",
    "    editor.add_lexicon(name='by_term', \n",
    "                       values=['by me', 'by someone', 'by Peter', 'by Ilse', 'by Tash'], \n",
    "                       overwrite=True )\n",
    "    \n",
    "    \n",
    "    \n",
    "    # test 1  \n",
    "    # 'Arg 1'\n",
    "    # 'The drink was poured by me.'\n",
    "\n",
    "    t = 'test1_Passive_Arg1'\n",
    "    tm[t] = {}\n",
    "    tm[t]['sentence']   = 'The {thing_to_spill} {aux_tenses} {predicate_pour} {by_term}.'\n",
    "    tm[t]['target']     = 'thing_to_spill'\n",
    "    tm[t]['arg_target'] = 'ARG1'\n",
    "    tm[t]['predicate']  = 'predicate_pour'\n",
    "\n",
    "\n",
    "\n",
    "\n",
    "    new_tests = create_tests(test_material, nr_of_samples)\n",
    "\n",
    "    for test in new_tests:\n",
    "            tests.append(test)\n",
    "\n",
    "    return tests"
   ]
  },
  {
   "cell_type": "code",
   "execution_count": null,
   "id": "4fd9e638",
   "metadata": {},
   "outputs": [],
   "source": [
    "\n",
    "\n",
    "\n",
    "\n",
    "\n",
    "\n",
    "\n",
    "\n",
    "\n",
    "\n",
    "\n",
    "\n",
    "\n",
    "\n",
    "\n",
    "\n",
    "\n",
    "\n",
    "\n",
    "\n",
    "\n",
    "\n",
    "\n",
    "\n"
   ]
  },
  {
   "cell_type": "code",
   "execution_count": null,
   "id": "6630388e",
   "metadata": {},
   "outputs": [],
   "source": []
  }
 ],
 "metadata": {
  "kernelspec": {
   "display_name": "Python 3 (ipykernel)",
   "language": "python",
   "name": "python3"
  },
  "language_info": {
   "codemirror_mode": {
    "name": "ipython",
    "version": 3
   },
   "file_extension": ".py",
   "mimetype": "text/x-python",
   "name": "python",
   "nbconvert_exporter": "python",
   "pygments_lexer": "ipython3",
   "version": "3.8.12"
  }
 },
 "nbformat": 4,
 "nbformat_minor": 5
}
