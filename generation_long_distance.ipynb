{
 "cells": [
  {
   "cell_type": "markdown",
   "id": "7e69854d",
   "metadata": {},
   "source": [
    "# Long Distance"
   ]
  },
  {
   "cell_type": "code",
   "execution_count": null,
   "id": "43cb4ed5",
   "metadata": {},
   "outputs": [],
   "source": [
    "import json\n",
    "import re\n",
    "\n",
    "\n",
    "import checklist\n",
    "from checklist.editor import Editor\n",
    "from checklist.perturb import Perturb\n",
    "from checklist.test_types import MFT, INV, DIR\n",
    "from checklist.expect import Expect\n",
    "\n",
    "\n",
    "from checklist.pred_wrapper import PredictorWrapper"
   ]
  },
  {
   "cell_type": "code",
   "execution_count": null,
   "id": "cc33520c",
   "metadata": {},
   "outputs": [],
   "source": [
    "%run utils.ipynb\n",
    "\n",
    "# Initialize random seed\n",
    "import random\n",
    "#import torch\n",
    "seed = 423\n",
    "random.seed(seed)\n",
    "#torch.manual_seed(seed)"
   ]
  },
  {
   "cell_type": "markdown",
   "id": "d634ed89",
   "metadata": {},
   "source": [
    "## Creating tests"
   ]
  },
  {
   "cell_type": "code",
   "execution_count": null,
   "id": "fb17139b",
   "metadata": {},
   "outputs": [],
   "source": [
    "def generate_long_distance_dependencies(editor, nr_of_samples):\n",
    "    \n",
    "    capability = 'capability2_long_distance_dependency'\n",
    "    test_type  = 'MFT'\n",
    "    function_expected = one_arg_expected\n",
    "    nr_of_samples = nr_of_samples\n",
    "    tests = []\n",
    "\n",
    "\n",
    "    # create test material dictionary\n",
    "    test_material = {}\n",
    "\n",
    "    test_material['capability']  = capability\n",
    "    test_material['test_type']   = test_type\n",
    "    test_material['expected_fn'] = function_expected\n",
    "\n",
    "    test_material['tests'] = {}\n",
    "\n",
    "    tm = test_material['tests']\n",
    "\n",
    "\n",
    "    \n",
    "    ## test templates\n",
    "\n",
    "\n",
    "\n",
    "    '''\n",
    "    \"admire\" verbs\n",
    "               abhor admire adore appreciate cherish deplore despise detest\n",
    "               disdain dislike distrust dread enjoy envy esteem exalt\n",
    "               execrate fancy favor fear hate idolize lament like loathe\n",
    "               love miss mourn pity prize regret relish resent respect\n",
    "               revere rue savor stand support tolerate treasure trust value\n",
    "               venerate worship\n",
    "    '''\n",
    "\n",
    "    editor.add_lexicon(name='predicate_admire', \n",
    "                       values=['enjoy', 'adore', 'admire', 'love', 'miss', 'idolize'], \n",
    "                       overwrite=True)\n",
    "\n",
    "    editor.add_lexicon(name='non_defining_clauses', \n",
    "                       values=['knowing each other from studying abroad',\n",
    "                               'not having seen each other in a long while',\n",
    "                               'recently seing each other more frequently than before',\n",
    "                               'studying together for a long, long time',\n",
    "                               'greatly appreciating seeing each other quite frequently nowadays'], \n",
    "                       overwrite=True)\n",
    "\n",
    "    # test 1  \n",
    "    # 'Arg 0'\n",
    "    # '...'\n",
    "\n",
    "    t = 'test1_long_sentence1'\n",
    "    tm[t] = {}\n",
    "    sentence = '{male} and {female}, {non_defining_clauses}, are meeting up again after five years to talk about {female} - the third person of their study group from the their shared time in {city} - and to {predicate_admire} the good old times.'\n",
    "    tm[t]['sentence']   = sentence\n",
    "    tm[t]['target']     = 'male'\n",
    "    tm[t]['arg_target'] = 'ARG0'\n",
    "    tm[t]['predicate']  = 'predicate_admire'\n",
    "\n",
    "\n",
    "\n",
    "\n",
    "    new_tests = create_tests(test_material, nr_of_samples)\n",
    "\n",
    "    for test in new_tests:\n",
    "            tests.append(test)\n",
    "\n",
    "    return tests"
   ]
  }
 ],
 "metadata": {
  "kernelspec": {
   "display_name": "Python 3 (ipykernel)",
   "language": "python",
   "name": "python3"
  },
  "language_info": {
   "codemirror_mode": {
    "name": "ipython",
    "version": 3
   },
   "file_extension": ".py",
   "mimetype": "text/x-python",
   "name": "python",
   "nbconvert_exporter": "python",
   "pygments_lexer": "ipython3",
   "version": "3.8.12"
  }
 },
 "nbformat": 4,
 "nbformat_minor": 5
}
