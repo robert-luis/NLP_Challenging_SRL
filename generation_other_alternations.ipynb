{
 "cells": [
  {
   "cell_type": "markdown",
   "id": "7e69854d",
   "metadata": {},
   "source": [
    "# Other Alternations / Robustness"
   ]
  },
  {
   "cell_type": "code",
   "execution_count": null,
   "id": "43cb4ed5",
   "metadata": {},
   "outputs": [],
   "source": [
    "import json\n",
    "import re\n",
    "\n",
    "\n",
    "import checklist\n",
    "from checklist.editor import Editor\n",
    "from checklist.perturb import Perturb\n",
    "from checklist.test_types import MFT, INV, DIR\n",
    "from checklist.expect import Expect\n",
    "\n",
    "\n",
    "from checklist.pred_wrapper import PredictorWrapper"
   ]
  },
  {
   "cell_type": "code",
   "execution_count": null,
   "id": "cc33520c",
   "metadata": {},
   "outputs": [],
   "source": [
    "%run utils.ipynb\n",
    "\n",
    "# Initialize random seed\n",
    "import random\n",
    "#import torch\n",
    "seed = 423\n",
    "random.seed(seed)\n",
    "#torch.manual_seed(seed)"
   ]
  },
  {
   "cell_type": "markdown",
   "id": "d634ed89",
   "metadata": {},
   "source": [
    "## Creating lexicons for tests"
   ]
  },
  {
   "cell_type": "code",
   "execution_count": null,
   "id": "bf587678",
   "metadata": {},
   "outputs": [],
   "source": [
    "\n",
    "def create_inv_tests(result_dict, sentences, perturb_object, capability, test_name):\n",
    "    \n",
    "    pdata = list(nlp.pipe(sentences[:]))\n",
    "\n",
    "    for i in range(5):\n",
    "        try:\n",
    "            ret = Perturb.perturb(pdata, perturb_object)\n",
    "            break\n",
    "        except:\n",
    "            pass\n",
    "\n",
    "    \n",
    "    test = INV(**ret, \n",
    "               capability = capability,\n",
    "               name       = test_name)\n",
    "    \n",
    "    return test"
   ]
  },
  {
   "cell_type": "code",
   "execution_count": null,
   "id": "276e2776",
   "metadata": {},
   "outputs": [],
   "source": [
    "def generate_other_alternations(editor, result_dict, max_nr_of_samples=None):\n",
    "    \n",
    "    capability = 'capability5_negation'\n",
    "    test_type  = 'INV'\n",
    "    \n",
    "\n",
    "    \n",
    "    sentences = retrieve_sentences_from_dict(result_dict)\n",
    "    \n",
    "    if type(max_nr_of_samples) == int and max_nr_of_samples < len(sentences):\n",
    "        sentences = sentences[:max_nr_of_samples]\n",
    "    \n",
    "    tests = create_inv_tests(result_dict, sentences, Perturb.add_negation, capability, 'negation')\n",
    "    \n",
    "    return tests\n"
   ]
  },
  {
   "cell_type": "code",
   "execution_count": null,
   "id": "4fd9e638",
   "metadata": {},
   "outputs": [],
   "source": []
  },
  {
   "cell_type": "code",
   "execution_count": null,
   "id": "6630388e",
   "metadata": {},
   "outputs": [],
   "source": []
  }
 ],
 "metadata": {
  "kernelspec": {
   "display_name": "Python 3 (ipykernel)",
   "language": "python",
   "name": "python3"
  },
  "language_info": {
   "codemirror_mode": {
    "name": "ipython",
    "version": 3
   },
   "file_extension": ".py",
   "mimetype": "text/x-python",
   "name": "python",
   "nbconvert_exporter": "python",
   "pygments_lexer": "ipython3",
   "version": "3.8.12"
  }
 },
 "nbformat": 4,
 "nbformat_minor": 5
}
